{
 "cells": [
  {
   "cell_type": "code",
   "execution_count": null,
   "metadata": {},
   "outputs": [],
   "source": [
    "import sqlite3\n",
    "import pandas as pd"
   ]
  },
  {
   "cell_type": "code",
   "execution_count": null,
   "metadata": {},
   "outputs": [],
   "source": [
    "conn = sqlite3.connect('TestDB.sqlite')\n",
    "c = conn.cursor() # The database will be saved\n",
    "\n",
    "# Create table - states_each_year\n",
    "c.execute('''CREATE TABLE states_each_year\n",
    "             ([id] INTEGER PRIMARY KEY,[state_code] integer, [state] text, [year] integer, [heroin_deaths] integer, [other_opioids_deaths] integer, [methadone_deaths] integer, [other_synthetics_deaths] integer, [population] integer, [heroin_death_rate] real, [other_opioids_death_rate] real, [methadone_death_rate] real, [other_synthetics_death_rate] real, [prescribing_rate] real)''')\n",
    "          \n",
    "# Create table - counties_all_years\n",
    "c.execute('''CREATE TABLE counties_all_years\n",
    "             ([id] INTEGER PRIMARY KEY,[county_code] integer, [county] text, [state] text, [heroin_deaths] integer, [other_opioids_deaths] integer, [methadone_deaths] integer, [other_synthetics_deaths] integer, [population] integer, [heroin_death_rate] real, [other_opioids_death_rate] real, [methadone_death_rate] real, [other_synthetics_death_rate] real, [prescribing_rate_2006] real, [prescribing_rate_2007] real, [prescribing_rate_2008] real, [prescribing_rate_2009] real, [prescribing_rate_2010] real, [prescribing_rate_2011] real, [prescribing_rate_2012] real, [prescribing_rate_2013] real, [prescribing_rate_2014] real, [prescribing_rate_2015] real, [prescribing_rate_2016] real, [prescribing_rate_2017] real)''')\n",
    "                       \n",
    "conn.commit()\n",
    "\n",
    "# Note that the syntax to create new tables should only be used once in the code (unless you dropped the table/s at the end of the code). \n",
    "# The [id] column is used to set an auto-increment ID for each record"
   ]
  },
  {
   "cell_type": "code",
   "execution_count": null,
   "metadata": {},
   "outputs": [],
   "source": [
    "read_states = pd.read_csv ('states_each_year.csv')\n",
    "read_states.to_sql('states_each_year', conn, if_exists='append', index = False) # Insert the values from the csv file into the table 'states_each_year' \n",
    "\n",
    "read_counties = pd.read_csv ('counties_all_years.csv')\n",
    "read_counties.to_sql('counties_all_years', conn, if_exists='append', index = False) # Insert the values from the csv file into the table 'counties_all_years'"
   ]
  },
  {
   "cell_type": "code",
   "execution_count": null,
   "metadata": {},
   "outputs": [],
   "source": []
  }
 ],
 "metadata": {
  "kernelspec": {
   "display_name": "Python 3",
   "language": "python",
   "name": "python3"
  },
  "language_info": {
   "codemirror_mode": {
    "name": "ipython",
    "version": 3
   },
   "file_extension": ".py",
   "mimetype": "text/x-python",
   "name": "python",
   "nbconvert_exporter": "python",
   "pygments_lexer": "ipython3",
   "version": "3.6.7"
  }
 },
 "nbformat": 4,
 "nbformat_minor": 2
}
